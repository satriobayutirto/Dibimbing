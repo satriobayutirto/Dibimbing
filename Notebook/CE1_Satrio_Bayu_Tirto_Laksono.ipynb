{
  "nbformat": 4,
  "nbformat_minor": 0,
  "metadata": {
    "colab": {
      "provenance": []
    },
    "kernelspec": {
      "name": "python3",
      "display_name": "Python 3"
    },
    "language_info": {
      "name": "python"
    }
  },
  "cells": [
    {
      "cell_type": "markdown",
      "source": [
        "# Coding Challenge 1 : Looping & Modulo\n",
        "\n",
        "Minggu ini, challenge kita adalah melakukan looping dengan Python. Contoh looping :"
      ],
      "metadata": {
        "id": "21Q6Yhc2Fy9p"
      }
    },
    {
      "cell_type": "code",
      "source": [
        "for x in range (1, 3) :\n",
        "  print(x)"
      ],
      "metadata": {
        "colab": {
          "base_uri": "https://localhost:8080/"
        },
        "id": "n0EJql6MGZFK",
        "outputId": "48ef56bc-192e-47d9-85c4-f3db7ff445f7"
      },
      "execution_count": null,
      "outputs": [
        {
          "output_type": "stream",
          "name": "stdout",
          "text": [
            "1\n",
            "2\n"
          ]
        }
      ]
    },
    {
      "cell_type": "markdown",
      "source": [
        "### **Soal 1**:\n",
        "\n",
        "Print out integers which are multiples of 3 from 1 to 22.\n",
        "(Print out bilangan bulat yang merupakan kelipatan 3 dari 1 sampai 22).\n",
        "\n",
        "**Ekspektasi jawaban:**\n",
        "\n",
        "Ketika kode kalian di-run, muncul angka-angka: 3, 6, 9, 12, 15, 18, 21. Gunakan looping."
      ],
      "metadata": {
        "id": "8Pk4S8y1GF_G"
      }
    },
    {
      "cell_type": "code",
      "source": [
        "for x in range (1,23):\n",
        "    if x%3==0:\n",
        "       print(x)"
      ],
      "metadata": {
        "colab": {
          "base_uri": "https://localhost:8080/"
        },
        "id": "VH5LOMCdi7fz",
        "outputId": "05422c00-1f77-4a24-e570-e8bfc70cc24d"
      },
      "execution_count": 4,
      "outputs": [
        {
          "output_type": "stream",
          "name": "stdout",
          "text": [
            "3\n",
            "6\n",
            "9\n",
            "12\n",
            "15\n",
            "18\n",
            "21\n"
          ]
        }
      ]
    },
    {
      "cell_type": "markdown",
      "source": [
        "### **Soal 2**:\n",
        "\n",
        "Buat sebuah function di Python untuk mengecek apakah sebuah angka merupakan bilangan prima atau bukan.\n",
        "\n",
        "Ekspektasi jawaban:\n",
        "\n",
        "misal fungsi Anda bernama prime_check. Ketika kita jalankan prime_check(5), maka outputnya adalah '5 is a Prime number'. Fungsi ini harus bisa berlaku untuk input apa pun.\n",
        "\n",
        "Clue: Pengecekan bilangan prima menggunakan looping dan modulo.\n",
        "```(python)\n",
        "print('Hasil dari 5 modulo 2 adalah',5 % 2)  \n",
        "# 5 Modulo 2 sama dengan 1. Artinya, 5 dibagi 2, sisanya 1\n",
        "\n",
        "print('Hasil dari 6 modulo 3 adalah', 6 % 3)\n",
        "# 6 Modulo 3 sama dengan 0. Artinya 6 dibagi 3, sisanya 0.\n",
        "```\n",
        "\n",
        "Selamat mengerjakan!"
      ],
      "metadata": {
        "id": "B3KWeHp2G3Pi"
      }
    },
    {
      "cell_type": "code",
      "source": [
        "def cek_prima(n):\n",
        "    if n < 2:\n",
        "        return False\n",
        "    for i in range(2, int(n**0.5) + 1):\n",
        "        if n % i == 0:\n",
        "            return False\n",
        "    return True\n",
        "\n",
        "bilangan=int(input('Masukan Angka:'))\n",
        "if cek_prima(bilangan):\n",
        "  print(f'{bilangan} adalah bilangan prima')\n",
        "else:\n",
        "  print(f'{bilangan} bukan bilangan prima')"
      ],
      "metadata": {
        "id": "jNzJrYNCJmBw",
        "colab": {
          "base_uri": "https://localhost:8080/"
        },
        "outputId": "48a43959-2036-4757-ef11-6e19a3378d65"
      },
      "execution_count": 39,
      "outputs": [
        {
          "output_type": "stream",
          "name": "stdout",
          "text": [
            "Masukan Angka:81\n",
            "81 bukan bilangan prima\n"
          ]
        }
      ]
    }
  ]
}