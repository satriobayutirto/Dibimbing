{
  "cells": [
    {
      "cell_type": "markdown",
      "metadata": {
        "id": "doF4J8excOM3"
      },
      "source": [
        "# Hello World!"
      ]
    },
    {
      "cell_type": "code",
      "execution_count": null,
      "metadata": {
        "colab": {
          "base_uri": "https://localhost:8080/"
        },
        "id": "wgBQenJOcK1i",
        "outputId": "cfa3f416-1361-4034-9fe4-f357fbfaf2d7"
      },
      "outputs": [
        {
          "output_type": "stream",
          "name": "stdout",
          "text": [
            "Hello World!\n"
          ]
        }
      ],
      "source": [
        "#print mengeluarkan output\n",
        "print(\"Hello World!\")\n"
      ]
    },
    {
      "cell_type": "markdown",
      "metadata": {
        "id": "wq4mf-XPKi1Q"
      },
      "source": [
        "Value adalah sebuah nilai yang kita masukkan kedalam ``cell code`` dan hanya bisa di panggil didalam cell code itu sendiri"
      ]
    },
    {
      "cell_type": "markdown",
      "metadata": {
        "id": "0qORfOVUcWwp"
      },
      "source": [
        "# Assignment Variable"
      ]
    },
    {
      "cell_type": "markdown",
      "metadata": {
        "id": "GBJsAp9-gtiW"
      },
      "source": [
        "![image.png](data:image/png;base64,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)"
      ]
    },
    {
      "cell_type": "markdown",
      "metadata": {
        "id": "enZSpnKN2Pcf"
      },
      "source": [
        "Python itu case sensitif, jadi apa yang di tulis sebelumnya, HARUS SAMA dengan apa yang dituliskan kemudian"
      ]
    },
    {
      "cell_type": "code",
      "execution_count": null,
      "metadata": {
        "colab": {
          "base_uri": "https://localhost:8080/",
          "height": 35
        },
        "id": "SHax4wamLzLE",
        "outputId": "0291c17e-2e04-4f1a-95aa-edb411f4570a"
      },
      "outputs": [
        {
          "output_type": "execute_result",
          "data": {
            "text/plain": [
              "'BayuTirto'"
            ],
            "application/vnd.google.colaboratory.intrinsic+json": {
              "type": "string"
            }
          },
          "metadata": {},
          "execution_count": 6
        }
      ],
      "source": [
        "'''\n",
        "kggfufvifj'''\n",
        "name = \"BayuTirto\"\n",
        "name"
      ]
    },
    {
      "cell_type": "markdown",
      "metadata": {
        "id": "w_NfZKalMdsw"
      },
      "source": [
        " variable adalah sebuah penyimpanan value"
      ]
    },
    {
      "cell_type": "code",
      "execution_count": null,
      "metadata": {
        "colab": {
          "base_uri": "https://localhost:8080/",
          "height": 35
        },
        "id": "vYjriLp0L6XX",
        "outputId": "f0027823-3fbd-407c-f730-4b2e8b3a1c6f"
      },
      "outputs": [
        {
          "output_type": "execute_result",
          "data": {
            "text/plain": [
              "'BayuTirto'"
            ],
            "application/vnd.google.colaboratory.intrinsic+json": {
              "type": "string"
            }
          },
          "metadata": {},
          "execution_count": 4
        }
      ],
      "source": [
        "name"
      ]
    },
    {
      "cell_type": "code",
      "execution_count": null,
      "metadata": {
        "colab": {
          "base_uri": "https://localhost:8080/"
        },
        "id": "CN-NGomeL6j9",
        "outputId": "7d5d67a0-6de0-4c15-97fc-145a8e4847e1"
      },
      "outputs": [
        {
          "output_type": "stream",
          "name": "stdout",
          "text": [
            "BayuTirto\n"
          ]
        }
      ],
      "source": [
        "print(name)"
      ]
    },
    {
      "cell_type": "code",
      "execution_count": null,
      "metadata": {
        "colab": {
          "base_uri": "https://localhost:8080/",
          "height": 36
        },
        "id": "Pr7eR38S1qFi",
        "outputId": "55d9b742-fa3d-417b-cf18-0cd70ead58d0"
      },
      "outputs": [
        {
          "data": {
            "application/vnd.google.colaboratory.intrinsic+json": {
              "type": "string"
            },
            "text/plain": [
              "'Bayuzen Ahmad'"
            ]
          },
          "execution_count": 15,
          "metadata": {},
          "output_type": "execute_result"
        }
      ],
      "source": [
        "my_name = \"Bayuzen Ahmad\"\n",
        "my_name"
      ]
    },
    {
      "cell_type": "code",
      "execution_count": null,
      "metadata": {
        "colab": {
          "base_uri": "https://localhost:8080/"
        },
        "id": "GzMVusEMM6oC",
        "outputId": "3236eb5c-4d10-4c29-bc5a-1524fa1b7868"
      },
      "outputs": [
        {
          "data": {
            "text/plain": [
              "62855487993"
            ]
          },
          "execution_count": 16,
          "metadata": {},
          "output_type": "execute_result"
        }
      ],
      "source": [
        "number_mantan = 62855487993\n",
        "number_mantan"
      ]
    },
    {
      "cell_type": "markdown",
      "metadata": {
        "id": "iDIp9PEF28Xa"
      },
      "source": [
        "String itu penulisannya pake tanda kutip ---> **\" \"** <br>\n",
        "Numeric itu penulisannaya cukup angka tidak perlu di kutip"
      ]
    },
    {
      "cell_type": "markdown",
      "metadata": {
        "id": "Oh53kysJiS3X"
      },
      "source": [
        "# Aritmatika"
      ]
    },
    {
      "cell_type": "markdown",
      "metadata": {
        "id": "hk5S1WvuiU5i"
      },
      "source": [
        "![image.png](data:image/png;base64,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)"
      ]
    },
    {
      "cell_type": "code",
      "execution_count": null,
      "metadata": {
        "colab": {
          "base_uri": "https://localhost:8080/"
        },
        "id": "urADGgQWicDs",
        "outputId": "51fec3c5-610d-4b28-cca9-318546118a59"
      },
      "outputs": [
        {
          "output_type": "stream",
          "name": "stdout",
          "text": [
            "Penjumlahan dari a dan b adalah  10\n",
            "Pengurangan dari a dan b adalah  2\n",
            "Peralian dari a dan b adalah  24\n",
            "Pembagian dari a dan b adalah  1.5\n",
            "Floor dari a dan b adalah  1\n",
            "Sisa bagi dari a dibagi oleh b adalah  2\n",
            "Sexponent a**b  1296\n"
          ]
        }
      ],
      "source": [
        "a = 6\n",
        "b = 4\n",
        "\n",
        "# Addition\n",
        "print(\"Penjumlahan dari a dan b adalah \",a+b)\n",
        "\n",
        "# substraction\n",
        "print(\"Pengurangan dari a dan b adalah \",a-b)\n",
        "\n",
        "# multiplication\n",
        "print(\"Peralian dari a dan b adalah \",a*b)\n",
        "\n",
        "# division\n",
        "print(\"Pembagian dari a dan b adalah \",a/b)\n",
        "\n",
        "# floor\n",
        "print(\"Floor dari a dan b adalah \",a//b)\n",
        "\n",
        "# modulo (sisa bagi)\n",
        "print(\"Sisa bagi dari a dibagi oleh b adalah \",a%b)\n",
        "\n",
        "# Exponent\n",
        "print(\"Sexponent a**b \",a**b)"
      ]
    },
    {
      "cell_type": "code",
      "source": [
        "nama =\"satrio bayu tirto\"\n",
        "umur = 25\n",
        "pekerjaan=\"fresh graduate\"\n",
        "motivasi=\"senang dg angka dan komputer\"\n",
        "\n",
        "print (\"nama saya adalah\", nama, \"umur saya\",str( umur), \"pekerjaan saya\", pekerjaan, \"dan motivasi saya adalah\", motivasi)"
      ],
      "metadata": {
        "colab": {
          "base_uri": "https://localhost:8080/"
        },
        "id": "N7Wyio-mt9qW",
        "outputId": "bbc5e87d-a2a2-4999-9ade-8ff4f10f7b3a"
      },
      "execution_count": null,
      "outputs": [
        {
          "output_type": "stream",
          "name": "stdout",
          "text": [
            "nama saya adalah satrio bayu tirto umur saya 25 pekerjaan saya fresh graduate dan motivasi saya adalah senang dg angka dan komputer\n"
          ]
        }
      ]
    },
    {
      "cell_type": "markdown",
      "metadata": {
        "id": "H3eq901rfo4_"
      },
      "source": [
        "# Python Data Types"
      ]
    },
    {
      "cell_type": "markdown",
      "metadata": {
        "id": "_MlZxSKafsy8"
      },
      "source": [
        "## Numeric"
      ]
    },
    {
      "cell_type": "markdown",
      "metadata": {
        "id": "nSeRqxbvevUx"
      },
      "source": [
        "`type` adalah function untuk memeriksa tipe data"
      ]
    },
    {
      "cell_type": "code",
      "execution_count": null,
      "metadata": {
        "colab": {
          "base_uri": "https://localhost:8080/"
        },
        "id": "pzbiR6ziehCu",
        "outputId": "8facc379-a478-4e01-bcea-31270e71ad74"
      },
      "outputs": [
        {
          "output_type": "stream",
          "name": "stdout",
          "text": [
            "tipe data dari 5.0 adalah <class 'float'>\n"
          ]
        }
      ],
      "source": [
        "bil_but = 5.\n",
        "print(f\"tipe data dari {bil_but} adalah {type(bil_but)}\")"
      ]
    },
    {
      "cell_type": "code",
      "execution_count": null,
      "metadata": {
        "colab": {
          "base_uri": "https://localhost:8080/"
        },
        "id": "oDWwCArBfAK_",
        "outputId": "5d520b61-2934-4ea8-c40a-fa14b2507290"
      },
      "outputs": [
        {
          "output_type": "stream",
          "name": "stdout",
          "text": [
            "ini angka  5\n",
            "type datanya adalah \n",
            "<class 'int'>\n"
          ]
        }
      ],
      "source": [
        "#integer\n",
        "integer = 5\n",
        "print(\"ini angka \",integer)\n",
        "\n",
        "print(\"type datanya adalah \")\n",
        "print(type(integer))"
      ]
    },
    {
      "cell_type": "code",
      "execution_count": null,
      "metadata": {
        "colab": {
          "base_uri": "https://localhost:8080/"
        },
        "id": "m8ZWJ0szfP7t",
        "outputId": "a418e7f5-7859-4d62-96cc-00eef48e5b63"
      },
      "outputs": [
        {
          "output_type": "execute_result",
          "data": {
            "text/plain": [
              "5"
            ]
          },
          "metadata": {},
          "execution_count": 9
        }
      ],
      "source": [
        "angka_pake_kutip = '5'\n",
        "int(angka_pake_kutip)"
      ]
    },
    {
      "cell_type": "code",
      "execution_count": null,
      "metadata": {
        "colab": {
          "base_uri": "https://localhost:8080/"
        },
        "id": "H1v7bQ8tffFx",
        "outputId": "fba86c2b-0041-404f-fa4b-4700c372a78c"
      },
      "outputs": [
        {
          "output_type": "execute_result",
          "data": {
            "text/plain": [
              "10"
            ]
          },
          "metadata": {},
          "execution_count": 10
        }
      ],
      "source": [
        "angka_pake_kutip = '5'\n",
        "\n",
        "int(angka_pake_kutip) + 5"
      ]
    },
    {
      "cell_type": "code",
      "execution_count": null,
      "metadata": {
        "colab": {
          "base_uri": "https://localhost:8080/"
        },
        "id": "pWldS-LWfnL0",
        "outputId": "e9e4abe3-3512-492f-bcbe-ee7830671f62"
      },
      "outputs": [
        {
          "output_type": "execute_result",
          "data": {
            "text/plain": [
              "10.0"
            ]
          },
          "metadata": {},
          "execution_count": 11
        }
      ],
      "source": [
        "float(angka_pake_kutip) + 5"
      ]
    },
    {
      "cell_type": "markdown",
      "metadata": {
        "id": "_eAOHDLmgDOc"
      },
      "source": [
        "# String"
      ]
    },
    {
      "cell_type": "code",
      "execution_count": null,
      "metadata": {
        "colab": {
          "base_uri": "https://localhost:8080/"
        },
        "id": "VloDXQpQf9yl",
        "outputId": "8e86e7f3-0a01-4794-b2ac-1e96c0dd565c"
      },
      "outputs": [
        {
          "name": "stdout",
          "output_type": "stream",
          "text": [
            "Bulan depan kita  5\n",
            "type datanya adalah \n",
            "<class 'str'>\n"
          ]
        }
      ],
      "source": [
        "string = \"5\"\n",
        "\n",
        "print(\"Bulan depan kita \",string)\n",
        "\n",
        "print(\"type datanya adalah \")\n",
        "print(type(string))"
      ]
    },
    {
      "cell_type": "code",
      "execution_count": null,
      "metadata": {
        "colab": {
          "base_uri": "https://localhost:8080/"
        },
        "id": "GG63dSkpf8UF",
        "outputId": "e399e12c-fc97-465f-f25b-907c87371dd0"
      },
      "outputs": [
        {
          "data": {
            "text/plain": [
              "str"
            ]
          },
          "execution_count": 69,
          "metadata": {},
          "output_type": "execute_result"
        }
      ],
      "source": [
        "nama = \"bayuze\"\n",
        "type(nama)"
      ]
    },
    {
      "cell_type": "code",
      "execution_count": null,
      "metadata": {
        "colab": {
          "base_uri": "https://localhost:8080/"
        },
        "id": "T5zcRE9LgKYe",
        "outputId": "0f0e6c4c-a376-4263-c88b-f149244cd750"
      },
      "outputs": [
        {
          "data": {
            "text/plain": [
              "bool"
            ]
          },
          "execution_count": 70,
          "metadata": {},
          "output_type": "execute_result"
        }
      ],
      "source": [
        "# Boolean\n",
        "yes = True\n",
        "type(yes)"
      ]
    },
    {
      "cell_type": "code",
      "execution_count": null,
      "metadata": {
        "colab": {
          "base_uri": "https://localhost:8080/",
          "height": 35
        },
        "id": "KkJiJJcuERrk",
        "outputId": "6bddb0fa-f715-41c5-cec0-d5d6a25b37c8"
      },
      "outputs": [
        {
          "data": {
            "application/vnd.google.colaboratory.intrinsic+json": {
              "type": "string"
            },
            "text/plain": [
              "'bayu'"
            ]
          },
          "execution_count": 9,
          "metadata": {},
          "output_type": "execute_result"
        }
      ],
      "source": [
        "# pengunaan kutip 1 dan 2\n",
        "var = 'bayu'\n",
        "var"
      ]
    },
    {
      "cell_type": "code",
      "execution_count": null,
      "metadata": {
        "colab": {
          "base_uri": "https://localhost:8080/",
          "height": 35
        },
        "id": "M8l9RkP9EYHB",
        "outputId": "7bda11e1-05a8-457c-e0ac-6525961e73b4"
      },
      "outputs": [
        {
          "data": {
            "application/vnd.google.colaboratory.intrinsic+json": {
              "type": "string"
            },
            "text/plain": [
              "'bayu'"
            ]
          },
          "execution_count": 10,
          "metadata": {},
          "output_type": "execute_result"
        }
      ],
      "source": [
        "var = \"bayu\"\n",
        "var"
      ]
    },
    {
      "cell_type": "code",
      "execution_count": null,
      "metadata": {
        "colab": {
          "base_uri": "https://localhost:8080/",
          "height": 35
        },
        "id": "KKNEtx6oEnWH",
        "outputId": "2ff11135-1e3f-4552-9529-ac2fd58e789f"
      },
      "outputs": [
        {
          "data": {
            "application/vnd.google.colaboratory.intrinsic+json": {
              "type": "string"
            },
            "text/plain": [
              "\"jum'at\""
            ]
          },
          "execution_count": 12,
          "metadata": {},
          "output_type": "execute_result"
        }
      ],
      "source": [
        "var = \"jum'at\"\n",
        "var"
      ]
    },
    {
      "cell_type": "markdown",
      "metadata": {
        "id": "dmydciDigPAd"
      },
      "source": [
        "Boolean"
      ]
    },
    {
      "cell_type": "code",
      "execution_count": null,
      "metadata": {
        "colab": {
          "base_uri": "https://localhost:8080/"
        },
        "id": "Zn45qJmMgNqe",
        "outputId": "94fc713b-44f2-4f24-c686-e91691cd47cf"
      },
      "outputs": [
        {
          "name": "stdout",
          "output_type": "stream",
          "text": [
            "Ini adalah  False\n",
            "False  pada python memiliki type data berupa \n",
            "<class 'bool'>\n"
          ]
        }
      ],
      "source": [
        "# True\n",
        "# False\n",
        "\n",
        "bool_1 = False\n",
        "print(\"Ini adalah \",bool_1)\n",
        "print(bool_1,\" pada python memiliki type data berupa \")\n",
        "print(type(bool_1))"
      ]
    },
    {
      "cell_type": "code",
      "execution_count": null,
      "metadata": {
        "colab": {
          "base_uri": "https://localhost:8080/"
        },
        "id": "bn1p-wWfFJjQ",
        "outputId": "5646eb83-e11b-44aa-a088-a6aedb11f784"
      },
      "outputs": [
        {
          "data": {
            "text/plain": [
              "1"
            ]
          },
          "execution_count": 72,
          "metadata": {},
          "output_type": "execute_result"
        }
      ],
      "source": [
        "int(True)"
      ]
    },
    {
      "cell_type": "code",
      "execution_count": null,
      "metadata": {
        "colab": {
          "base_uri": "https://localhost:8080/",
          "height": 36
        },
        "id": "0IDRl6hwhQ2N",
        "outputId": "e87deba3-25a5-4059-c5d9-f4fa66ff4eea"
      },
      "outputs": [
        {
          "data": {
            "application/vnd.google.colaboratory.intrinsic+json": {
              "type": "string"
            },
            "text/plain": [
              "'True'"
            ]
          },
          "execution_count": 74,
          "metadata": {},
          "output_type": "execute_result"
        }
      ],
      "source": [
        "str(True)"
      ]
    },
    {
      "cell_type": "code",
      "execution_count": null,
      "metadata": {
        "colab": {
          "base_uri": "https://localhost:8080/"
        },
        "id": "2pau3TXWFRBN",
        "outputId": "04f4641d-d742-4a56-fc14-f3f592b4e320"
      },
      "outputs": [
        {
          "data": {
            "text/plain": [
              "0"
            ]
          },
          "execution_count": 73,
          "metadata": {},
          "output_type": "execute_result"
        }
      ],
      "source": [
        "int(False)"
      ]
    },
    {
      "cell_type": "markdown",
      "metadata": {
        "id": "TYs_uyKlg_h1"
      },
      "source": [
        "# Input Function\n",
        "input function memiliki fungsi memberikan inputan value pada setiap ``running cell`` dijalankan"
      ]
    },
    {
      "cell_type": "code",
      "execution_count": null,
      "metadata": {
        "colab": {
          "base_uri": "https://localhost:8080/"
        },
        "id": "tESNBzjmgY6d",
        "outputId": "6ad58495-f720-444d-9743-038315296fd6"
      },
      "outputs": [
        {
          "output_type": "stream",
          "name": "stdout",
          "text": [
            "Masukkan nama kamu : aaaaaaa\n",
            "Hallo  aaaaaaa selamat Belajar \n"
          ]
        }
      ],
      "source": [
        "var_input = input(\"Masukkan nama kamu : \")\n",
        "\n",
        "print(\"Hallo \",var_input, \"selamat Belajar \")"
      ]
    },
    {
      "cell_type": "markdown",
      "metadata": {
        "id": "rbpHWGxThvJw"
      },
      "source": [
        "# String Format\n",
        "\n",
        "String format berfungsi untuk mengeluarkan output variable dalam **tanda kutip**. <br>\n",
        "\n",
        "terdapat dua penulisan yang digunakan : <br>\n",
        "1.``print(\"{}\".format(var))`` <br>\n",
        "2.``print(f\"{var}\")``"
      ]
    },
    {
      "cell_type": "code",
      "execution_count": null,
      "metadata": {
        "colab": {
          "base_uri": "https://localhost:8080/"
        },
        "id": "pOD6R2MgHqcJ",
        "outputId": "9aaf0cb1-3621-44f4-c878-40e5ef296589"
      },
      "outputs": [
        {
          "name": "stdout",
          "output_type": "stream",
          "text": [
            "Halo nama saya adalah  Bayuzen  Ahmad  umur saya adalah  19\n"
          ]
        }
      ],
      "source": [
        "first_name= \"Bayuzen \"\n",
        "lastname = \"Ahmad\"\n",
        "umur = 19\n",
        "\n",
        "print(\"Halo nama saya adalah \",first_name,lastname,\" umur saya adalah \",umur)"
      ]
    },
    {
      "cell_type": "code",
      "execution_count": null,
      "metadata": {
        "colab": {
          "base_uri": "https://localhost:8080/"
        },
        "id": "KDDwYQtahcLN",
        "outputId": "119855ee-e28b-46b5-f717-6ab5847e47b3"
      },
      "outputs": [
        {
          "name": "stdout",
          "output_type": "stream",
          "text": [
            "Masukkan Nama Kamu : Ayu Widi\n",
            "Masukkan tanggal Lahir kamu : 2005\n",
            "Hallo nama saya Ayu Widi dan saya kelahiran 2005. Salam kenal ya ges ya\n"
          ]
        }
      ],
      "source": [
        "#definisikan variable\n",
        "var_name = input(\"Masukkan Nama Kamu : \")\n",
        "var_birth_date = input(\"Masukkan tanggal Lahir kamu : \")\n",
        "\n",
        "#Style format versi 1\n",
        "print(\"Hallo nama saya {} dan saya kelahiran {}. Salam kenal ya ges ya\".format(var_name,var_birth_date))"
      ]
    },
    {
      "cell_type": "code",
      "execution_count": null,
      "metadata": {
        "colab": {
          "base_uri": "https://localhost:8080/"
        },
        "id": "yCLICzwjlh1m",
        "outputId": "36893500-3bb6-4d2b-a5ef-ba316641571e"
      },
      "outputs": [
        {
          "name": "stdout",
          "output_type": "stream",
          "text": [
            "Masukkan Nama Kamu : Bayuzen \n",
            "Masukkan tanggal Lahir kamu : 1997\n",
            "Hallo nama saya Bayuzen  dan saya kelahiran 1997. Salam kenal ya ges ya\n"
          ]
        }
      ],
      "source": [
        "#definisikan variable\n",
        "var_name = input(\"Masukkan Nama Kamu : \")\n",
        "var_birth_date = input(\"Masukkan tanggal Lahir kamu : \")\n",
        "\n",
        "#Style format versi 2\n",
        "print(f\"Hallo nama saya {var_name} dan saya kelahiran {var_birth_date}. Salam kenal ya ges ya\")"
      ]
    },
    {
      "cell_type": "markdown",
      "metadata": {
        "id": "ZWRc5XYOmEDH"
      },
      "source": [
        "# String Operation"
      ]
    },
    {
      "cell_type": "markdown",
      "metadata": {
        "id": "tvZhLWqJmG81"
      },
      "source": [
        "**Addtion** untuk menggabungkan string <br>\n",
        "**multiply** untuk repated"
      ]
    },
    {
      "cell_type": "code",
      "execution_count": null,
      "metadata": {
        "colab": {
          "base_uri": "https://localhost:8080/"
        },
        "id": "XvdJcCfslvvv",
        "outputId": "8ecd9ecf-5d7d-4b58-b15c-ae554c0ee0cb"
      },
      "outputs": [
        {
          "name": "stdout",
          "output_type": "stream",
          "text": [
            "bayuzen ahmad\n"
          ]
        }
      ],
      "source": [
        "var_first_name = \"bayuzen\"\n",
        "var_last_name = \"ahmad\"\n",
        "\n",
        "print(var_first_name + \" \" + var_last_name)"
      ]
    },
    {
      "cell_type": "code",
      "execution_count": null,
      "metadata": {
        "colab": {
          "base_uri": "https://localhost:8080/",
          "height": 35
        },
        "id": "DfenTvTiJBhh",
        "outputId": "a4858ab6-6cb3-4ca4-a120-fa870c2411ec"
      },
      "outputs": [
        {
          "data": {
            "application/vnd.google.colaboratory.intrinsic+json": {
              "type": "string"
            },
            "text/plain": [
              "'Aku Kamu Jadi Kita'"
            ]
          },
          "execution_count": 3,
          "metadata": {},
          "output_type": "execute_result"
        }
      ],
      "source": [
        "\"Aku\" + \" Kamu\" + \" Jadi Kita\""
      ]
    },
    {
      "cell_type": "code",
      "execution_count": null,
      "metadata": {
        "colab": {
          "base_uri": "https://localhost:8080/",
          "height": 35
        },
        "id": "FOWhC_HSJMX6",
        "outputId": "e56e51e2-af21-4378-f660-30ebe1f6d7e8"
      },
      "outputs": [
        {
          "data": {
            "application/vnd.google.colaboratory.intrinsic+json": {
              "type": "string"
            },
            "text/plain": [
              "'Love youuLove youuLove youuLove youuLove youuLove youuLove youuLove youu'"
            ]
          },
          "execution_count": 8,
          "metadata": {},
          "output_type": "execute_result"
        }
      ],
      "source": [
        "\"Love youu\" * 8"
      ]
    },
    {
      "cell_type": "code",
      "execution_count": null,
      "metadata": {
        "colab": {
          "base_uri": "https://localhost:8080/",
          "height": 35
        },
        "id": "wPveRiYhmaOm",
        "outputId": "f4455c38-99ae-4054-a29a-46aa02dc6296"
      },
      "outputs": [
        {
          "data": {
            "application/vnd.google.colaboratory.intrinsic+json": {
              "type": "string"
            },
            "text/plain": [
              "'bayuzenbayuzenbayuzenbayuzenbayuzenbayuzenbayuzenbayuzen'"
            ]
          },
          "execution_count": 31,
          "metadata": {},
          "output_type": "execute_result"
        }
      ],
      "source": [
        "#repeted ---> string * numeric\n",
        "\n",
        "var_first_name * 8"
      ]
    },
    {
      "cell_type": "markdown",
      "metadata": {
        "id": "W5UoZKdWnFv0"
      },
      "source": [
        "# Latihan\n",
        "\n",
        "Buatlah sebuah program yang menginput nama user dan hitunglah panja karakter dari nama user. <br>\n",
        "\n",
        "**Output**\n",
        "Hallo Bayuzen selamat pagi <br>\n",
        "panjang karakter dari nama user adalah : 6 <br>\n",
        "\n",
        "\n",
        "Note : Menghitung panjang karakter terdapat pada slide 65"
      ]
    },
    {
      "cell_type": "code",
      "execution_count": null,
      "metadata": {
        "id": "OkIZ0jdgmfsE"
      },
      "outputs": [],
      "source": [
        "#write your code\n",
        "\n",
        "\n"
      ]
    },
    {
      "cell_type": "markdown",
      "metadata": {
        "id": "8yPIo9pmn-zP"
      },
      "source": [
        "Buatlah program yang mengubah jumlah tahun menjadi minggu. jika inputnya 2, maka outputnya harus 2 * 52 = 104, karena kita memiliki 52 minggu dalam 1 tahun."
      ]
    },
    {
      "cell_type": "code",
      "execution_count": null,
      "metadata": {
        "id": "IfrjNfGpn_x5"
      },
      "outputs": [],
      "source": [
        "#write your code\n",
        "\n",
        "\n",
        "\n"
      ]
    },
    {
      "cell_type": "markdown",
      "metadata": {
        "id": "tGNVimx_ovlM"
      },
      "source": [
        "# Structural Logic"
      ]
    },
    {
      "cell_type": "markdown",
      "metadata": {
        "id": "u0Yn6jNjovrF"
      },
      "source": [
        "## Logical Comparison"
      ]
    },
    {
      "cell_type": "markdown",
      "metadata": {
        "id": "my1QYtuQpCRz"
      },
      "source": [
        "![image.png](data:image/png;base64,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)"
      ]
    },
    {
      "cell_type": "code",
      "execution_count": null,
      "metadata": {
        "colab": {
          "base_uri": "https://localhost:8080/"
        },
        "id": "rut4EIvso2J2",
        "outputId": "fe334c14-67dd-4367-f43c-d1997bcb4f1f"
      },
      "outputs": [
        {
          "data": {
            "text/plain": [
              "True"
            ]
          },
          "execution_count": 82,
          "metadata": {},
          "output_type": "execute_result"
        }
      ],
      "source": [
        "5 == 5"
      ]
    },
    {
      "cell_type": "code",
      "execution_count": null,
      "metadata": {
        "colab": {
          "base_uri": "https://localhost:8080/"
        },
        "id": "4z7KL1Wzj5GJ",
        "outputId": "7891fd31-ce6a-4483-f9fc-6f0890e107f9"
      },
      "outputs": [
        {
          "data": {
            "text/plain": [
              "False"
            ]
          },
          "execution_count": 83,
          "metadata": {},
          "output_type": "execute_result"
        }
      ],
      "source": [
        "5 != 5"
      ]
    },
    {
      "cell_type": "code",
      "execution_count": null,
      "metadata": {
        "colab": {
          "base_uri": "https://localhost:8080/"
        },
        "id": "pp_DSdeTpPWY",
        "outputId": "68fcc10d-fb9f-4ad5-fdc7-3b86442b8bab"
      },
      "outputs": [
        {
          "data": {
            "text/plain": [
              "False"
            ]
          },
          "execution_count": 84,
          "metadata": {},
          "output_type": "execute_result"
        }
      ],
      "source": [
        "5 > 6"
      ]
    },
    {
      "cell_type": "code",
      "execution_count": null,
      "metadata": {
        "colab": {
          "base_uri": "https://localhost:8080/"
        },
        "id": "XFG4B-JxpbBQ",
        "outputId": "1491fa0f-92ed-41da-f422-9fa3e1b53d02"
      },
      "outputs": [
        {
          "output_type": "execute_result",
          "data": {
            "text/plain": [
              "True"
            ]
          },
          "metadata": {},
          "execution_count": 1
        }
      ],
      "source": [
        "\"Bayuzen\" in  \"Bayuzen mau makan ya guys\""
      ]
    },
    {
      "cell_type": "markdown",
      "metadata": {
        "id": "BL0P7Gknpei6"
      },
      "source": [
        "bernilai *True* karena **Bayuzen** terdapat dalam kalimat **Bayuzen mau makan ya guys**"
      ]
    },
    {
      "cell_type": "markdown",
      "metadata": {
        "id": "Dv86Ohi0pVqu"
      },
      "source": [
        "# If Statement"
      ]
    },
    {
      "cell_type": "markdown",
      "metadata": {
        "id": "VO7hnuXtpspG"
      },
      "source": [
        "![image.png](data:image/png;base64,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)"
      ]
    },
    {
      "cell_type": "markdown",
      "metadata": {
        "id": "Dv4hG2dRp9kn"
      },
      "source": [
        "![image.png](data:image/png;base64,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)"
      ]
    },
    {
      "cell_type": "code",
      "execution_count": null,
      "metadata": {
        "colab": {
          "base_uri": "https://localhost:8080/"
        },
        "id": "xQZvDty6kzk_",
        "outputId": "a7faa22f-8bb1-45df-ac68-a86e445acd7f"
      },
      "outputs": [
        {
          "name": "stdout",
          "output_type": "stream",
          "text": [
            "Saya beli skincare\n"
          ]
        }
      ],
      "source": [
        "skincare = 1000000\n",
        "saldo_atm =  2e6\n",
        "\n",
        "if saldo_atm > skincare:\n",
        "  print(\"Saya beli skincare\")"
      ]
    },
    {
      "cell_type": "code",
      "execution_count": null,
      "metadata": {
        "colab": {
          "base_uri": "https://localhost:8080/"
        },
        "id": "2-J3U1jKpUiF",
        "outputId": "fbfa48df-cf25-486a-aee9-6fc5fac5648c"
      },
      "outputs": [
        {
          "name": "stdout",
          "output_type": "stream",
          "text": [
            "Aku belum dewasa, aku belum kecewa, karena umur saya 19 kurang dari 19\n"
          ]
        }
      ],
      "source": [
        "umur = 19\n",
        "\n",
        "umur_dewasa = 19\n",
        "\n",
        "if umur <= umur_dewasa:\n",
        "  print(f\"Aku belum dewasa, aku belum kecewa, karena umur saya {umur} kurang dari {umur_dewasa}\")"
      ]
    },
    {
      "cell_type": "code",
      "execution_count": null,
      "metadata": {
        "id": "grpmw-ZDqWVu"
      },
      "outputs": [],
      "source": [
        "# jika kondisi tidak memenuhi maka tidak terjadi apa apa\n",
        "umur = 19\n",
        "\n",
        "umur_dewasa = 20\n",
        "\n",
        "if umur > umur_dewasa: #kondisi False, karena menyatakan 19 besar dari 20\n",
        "  print(f\"Aku belum dewasa, aku belum kecewa, karena umur saya {umur} kurang dari {umur_dewasa}\")"
      ]
    },
    {
      "cell_type": "markdown",
      "metadata": {
        "id": "tJPPf_DXxPPm"
      },
      "source": [
        "## Else\n",
        "![image.png](data:image/png;base64,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)"
      ]
    },
    {
      "cell_type": "code",
      "execution_count": null,
      "metadata": {
        "colab": {
          "base_uri": "https://localhost:8080/"
        },
        "id": "lu_KRfGqmZH_",
        "outputId": "0e8f0c12-e7f7-4ddf-804c-ab0795c3b26c"
      },
      "outputs": [
        {
          "name": "stdout",
          "output_type": "stream",
          "text": [
            "tanda terbalik\n"
          ]
        }
      ],
      "source": [
        "skincare = 1000000\n",
        "saldo_atm =  2e6\n",
        "\n",
        "if saldo_atm < skincare:\n",
        "  print(\"Saya beli skincare\")\n",
        "\n",
        "else:\n",
        "  print(\"tanda terbalik\")"
      ]
    },
    {
      "cell_type": "code",
      "execution_count": null,
      "metadata": {
        "colab": {
          "base_uri": "https://localhost:8080/"
        },
        "id": "1WCSV22Wqaoo",
        "outputId": "b68909ec-c965-409c-9b77-1b553d70831d"
      },
      "outputs": [
        {
          "name": "stdout",
          "output_type": "stream",
          "text": [
            "Aku belum dewasa, aku belum kecewa, karena umur saya 25 kurang dari 20\n"
          ]
        }
      ],
      "source": [
        "# jika kondisi tidak memenuhi maka tidak terjadi apa apa\n",
        "umur = 25\n",
        "umur_dewasa = 20\n",
        "\n",
        "tinggi_badan_ku =  169\n",
        "tinggi_acc = 170\n",
        "\n",
        "if umur > umur_dewasa:\n",
        "  print(f\"Aku belum dewasa, aku belum kecewa, karena umur saya {umur} kurang dari {umur_dewasa}\")\n",
        "else :\n",
        "  print(\"Masih bocil\")"
      ]
    },
    {
      "cell_type": "code",
      "execution_count": null,
      "metadata": {
        "colab": {
          "base_uri": "https://localhost:8080/"
        },
        "id": "-G04Za0GnjaT",
        "outputId": "b8f7da02-dbe9-4384-b579-e6151937d62d"
      },
      "outputs": [
        {
          "name": "stdout",
          "output_type": "stream",
          "text": [
            "tidak memenuhi kriteria\n"
          ]
        }
      ],
      "source": [
        "# jika kondisi tidak memenuhi maka tidak terjadi apa apa\n",
        "umur = 25\n",
        "umur_dewasa = 20\n",
        "tinggi_badan_ku =  169\n",
        "tinggi_acc = 170\n",
        "\n",
        "duit_ku = 10000\n",
        "karcis = 15000\n",
        "\n",
        "if ((umur > umur_dewasa) or (tinggi_badan_ku > tinggi_acc)) and (duit_ku >= karcis):\n",
        "  print(\"memenuhi, silahkan naik role coster\")\n",
        "else:\n",
        "  print(\"tidak memenuhi kriteria\")"
      ]
    },
    {
      "cell_type": "markdown",
      "metadata": {
        "id": "vBn86NdXxeRf"
      },
      "source": [
        "## Elif Statement"
      ]
    },
    {
      "cell_type": "markdown",
      "metadata": {
        "id": "wt9q7uVnxdH5"
      },
      "source": [
        "![image.png](data:image/png;base64,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)"
      ]
    },
    {
      "cell_type": "code",
      "execution_count": null,
      "metadata": {
        "colab": {
          "base_uri": "https://localhost:8080/"
        },
        "id": "nGbw7iCOqBWJ",
        "outputId": "a03b9089-89df-411f-9eda-07e2c85c41bd"
      },
      "outputs": [
        {
          "name": "stdout",
          "output_type": "stream",
          "text": [
            "Bocil 19 Tahun\n"
          ]
        }
      ],
      "source": [
        "umur = 19\n",
        "\n",
        "umur_dewasa = 20\n",
        "\n",
        "if umur > umur_dewasa:\n",
        "  print(f\"Aku belum dewasa, aku belum kecewa, karena umur saya {umur} kurang dari {umur_dewasa}\")\n",
        "elif  umur == 19:\n",
        "  print(\"Bocil 19 Tahun\")"
      ]
    },
    {
      "cell_type": "code",
      "execution_count": null,
      "metadata": {
        "colab": {
          "base_uri": "https://localhost:8080/"
        },
        "id": "HVs0IpsyqQ6x",
        "outputId": "50747297-678c-4c5e-cd66-71c674157383"
      },
      "outputs": [
        {
          "name": "stdout",
          "output_type": "stream",
          "text": [
            "Masuk dengan jalur orang dalam\n"
          ]
        }
      ],
      "source": [
        "umur_ku = 20\n",
        "umur_masuk_bioskop = 21\n",
        "\n",
        "duit_sogok = 10000\n",
        "duit_ku = 20000\n",
        "\n",
        "if umur_ku >= umur_masuk_bioskop:\n",
        "  print(\"Yeay masuk bioskop\")\n",
        "\n",
        "elif duit_ku >= duit_sogok:\n",
        "  print(\"Masuk dengan jalur orang da%lam\")"
      ]
    },
    {
      "cell_type": "code",
      "source": [],
      "metadata": {
        "id": "RVb9-midPd54"
      },
      "execution_count": null,
      "outputs": []
    },
    {
      "cell_type": "code",
      "execution_count": null,
      "metadata": {
        "colab": {
          "base_uri": "https://localhost:8080/"
        },
        "id": "-d8U0lKeq2ok",
        "outputId": "e15ef914-38c8-4782-f1c5-04a31a3009fb"
      },
      "outputs": [
        {
          "name": "stdout",
          "output_type": "stream",
          "text": [
            "Pulang Nangis !!\n"
          ]
        }
      ],
      "source": [
        "umur_ku = 20\n",
        "umur_masuk_bioskop = 21\n",
        "\n",
        "duit_sogok = 100000\n",
        "duit_ku = 20000\n",
        "\n",
        "if umur_ku >= umur_masuk_bioskop:\n",
        "  print(\"Yeay masuk bioskop\")\n",
        "\n",
        "elif duit_ku >= duit_sogok:\n",
        "  print(\"Masuk dengan jalur orang dalam\")\n",
        "\n",
        "else:\n",
        "  print(\"Pulang Nangis !!\")"
      ]
    },
    {
      "cell_type": "code",
      "execution_count": null,
      "metadata": {
        "colab": {
          "base_uri": "https://localhost:8080/"
        },
        "id": "F9-k4WDexotH",
        "outputId": "c119983e-1e3f-4e39-deb5-92970a016c24"
      },
      "outputs": [
        {
          "name": "stdout",
          "output_type": "stream",
          "text": [
            "This board is good for intermediate users\n"
          ]
        }
      ],
      "source": [
        "price = 1499.99\n",
        "luxury_threshold = 1000\n",
        "expert_threshold = 500\n",
        "intermediate_trehsold = 300\n",
        "\n",
        "if price< intermediate_trehsold:\n",
        "  print('This board is good for intermediate users')\n",
        "elif price < expert_threshold:\n",
        "  print('This Board is for experienced users')\n",
        "elif price > luxury_threshold:\n",
        "  print(\"The gold doesn't improve the ride but it looks great!\")\n",
        "else:\n",
        "  print(\"This should be suitable for a beginner.\")"
      ]
    },
    {
      "cell_type": "markdown",
      "metadata": {
        "id": "a23Sm6MpynTh"
      },
      "source": [
        "# Nested IF\n",
        "![image.png](data:image/png;base64,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)"
      ]
    },
    {
      "cell_type": "code",
      "execution_count": null,
      "metadata": {
        "colab": {
          "base_uri": "https://localhost:8080/"
        },
        "id": "Y5chWtI9rXh_",
        "outputId": "757e7e19-9970-4b38-98c9-818f6ccdee55"
      },
      "outputs": [
        {
          "name": "stdout",
          "output_type": "stream",
          "text": [
            "okeee\n"
          ]
        }
      ],
      "source": [
        "price = 499.99\n",
        "budget = 498\n",
        "inventory = 5\n",
        "\n",
        "if budget > price:\n",
        "  if inventory == 0:\n",
        "    print('You Can afford this and we have it stock')\n",
        "  elif inventory > 3:\n",
        "    print(\"Gett !!!\")\n",
        "\n",
        "elif inventory == 5:\n",
        "  print(\"okeee\")"
      ]
    },
    {
      "cell_type": "code",
      "execution_count": null,
      "metadata": {
        "colab": {
          "base_uri": "https://localhost:8080/"
        },
        "id": "OuDyZ4JaydNa",
        "outputId": "0665f789-e649-4555-858d-b9741e495b98"
      },
      "outputs": [
        {
          "name": "stdout",
          "output_type": "stream",
          "text": [
            "You can afford this but it's out of stock\n"
          ]
        }
      ],
      "source": [
        "price = 499.99\n",
        "budget = 500\n",
        "inventory = 0\n",
        "\n",
        "if budget > price:\n",
        "  if inventory > 0:\n",
        "    print('You Can afford this and we have it stock')\n",
        "  else:\n",
        "    print(\"You can afford this but it's out of stock\")\n",
        "\n",
        "else:\n",
        "  print(f\"Unfortunately, this board costs more than ${budget}\")"
      ]
    },
    {
      "cell_type": "markdown",
      "metadata": {
        "id": "WYZJulNwz9wM"
      },
      "source": [
        "# Loops\n",
        "\n",
        "![image.png](data:image/png;base64,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)"
      ]
    },
    {
      "cell_type": "code",
      "execution_count": null,
      "metadata": {
        "id": "w4839Z_3N9AV"
      },
      "outputs": [],
      "source": [
        "var_list = [1,2,3,4,5,6]\n",
        "\n",
        "var_list[0] = var_list[0]*2\n",
        "var_list[1] = var_list[1]*2\n",
        "var_list[2] = var_list[2]*2"
      ]
    },
    {
      "cell_type": "markdown",
      "metadata": {
        "id": "aqp_MAEvz_U-"
      },
      "source": [
        "## For Loops\n",
        "\n",
        "untuk membangkitkan for loops kita membutuhkan keyword **for** <br>\n",
        "\n",
        "```\n",
        "for iterator_variable in sequence_name:\n",
        "    Statements\n",
        "    . . .\n",
        "    Statements\n",
        "```"
      ]
    },
    {
      "cell_type": "code",
      "execution_count": null,
      "metadata": {
        "id": "lHrVyT2wss9d"
      },
      "outputs": [],
      "source": [
        "# COntoh kasusk pekerjaan yang berulang\n",
        "var_list = [1,2,3,4,5,6]\n",
        "\n",
        "var_list[0] = var_list[0]*2\n",
        "var_list[1] = var_list[1]*2\n",
        "var_list[2] = var_list[2]*2"
      ]
    },
    {
      "cell_type": "code",
      "execution_count": null,
      "metadata": {
        "colab": {
          "base_uri": "https://localhost:8080/"
        },
        "id": "LuEsvhbMsxx_",
        "outputId": "15b207eb-9566-4c89-ec49-01041fa615b0"
      },
      "outputs": [
        {
          "name": "stdout",
          "output_type": "stream",
          "text": [
            "2\n",
            "4\n",
            "6\n",
            "8\n",
            "10\n",
            "12\n"
          ]
        }
      ],
      "source": [
        "var_list = [1,2,3,4,5,6]\n",
        "\n",
        "for x in var_list:\n",
        "  print(x*2)"
      ]
    },
    {
      "cell_type": "code",
      "execution_count": null,
      "metadata": {
        "colab": {
          "base_uri": "https://localhost:8080/"
        },
        "id": "p9j8Ie5RtNmn",
        "outputId": "53192cdd-e785-4311-fd14-257fcabc6c01"
      },
      "outputs": [
        {
          "name": "stdout",
          "output_type": "stream",
          "text": [
            " 1 Ini adalah bilangan ganjil \n",
            " 2 Ini adalah bilangan genap \n",
            " 3 Ini adalah bilangan ganjil \n",
            " 4 Ini adalah bilangan genap \n",
            " 5 Ini adalah bilangan ganjil \n",
            " 6 Ini adalah bilangan genap \n"
          ]
        }
      ],
      "source": [
        "var_list = [1,2,3,4,5,6]\n",
        "\n",
        "for x in var_list:\n",
        "  if x%2 == 0 :\n",
        "    print(f\" {x} Ini adalah bilangan genap \")\n",
        "  elif x%2 != 0:\n",
        "    print(f\" {x} Ini adalah bilangan ganjil \")"
      ]
    },
    {
      "cell_type": "code",
      "execution_count": null,
      "metadata": {
        "colab": {
          "base_uri": "https://localhost:8080/"
        },
        "id": "XiEo1Vjl2Yum",
        "outputId": "4fa44a16-697f-490b-a96f-b41e9ce468d4"
      },
      "outputs": [
        {
          "name": "stdout",
          "output_type": "stream",
          "text": [
            "Hello World\n",
            "Hello World\n",
            "Hello World\n",
            "Hello World\n",
            "Hello World\n"
          ]
        }
      ],
      "source": [
        "# for loop basic\n",
        "for angka in 0,1,2,3,4:\n",
        "    print('Hello World')"
      ]
    },
    {
      "cell_type": "code",
      "execution_count": null,
      "metadata": {
        "colab": {
          "base_uri": "https://localhost:8080/"
        },
        "id": "gFVstLE72Yzl",
        "outputId": "20a5ffc5-cc32-4c1e-a408-4147773910a8"
      },
      "outputs": [
        {
          "name": "stdout",
          "output_type": "stream",
          "text": [
            "Hello World ke-0\n",
            "Hello World ke-1\n",
            "Hello World ke-2\n",
            "Hello World ke-3\n",
            "Hello World ke-4\n"
          ]
        }
      ],
      "source": [
        "for angka in 0,1,2,3,4:\n",
        "    print(f'Hello World ke-{angka}')"
      ]
    },
    {
      "cell_type": "markdown",
      "metadata": {
        "id": "FfCKKZKJ2kaO"
      },
      "source": [
        "`range()` akan membuat **kumpulan angka** secara otomatis sesuai yang kita inginkan. Cara penggunaanya adalah `range(begin, end, step)`\n",
        " - `begin` adalah angka pertama di dalam range, secara default adalah `0`.\n",
        " -  `end` adalah angka 1 step setelah angka terakhir, tidak memiliki default.\n",
        " -  `step` adalah besar dari kenaikan atau penurunan, secara default adalah `1`."
      ]
    },
    {
      "cell_type": "code",
      "execution_count": null,
      "metadata": {
        "colab": {
          "base_uri": "https://localhost:8080/"
        },
        "id": "RehCrFr52hnG",
        "outputId": "45f1da33-911c-4c52-f1f6-46bbd6684265"
      },
      "outputs": [
        {
          "name": "stdout",
          "output_type": "stream",
          "text": [
            "0\n",
            "1\n",
            "2\n",
            "3\n",
            "4\n"
          ]
        }
      ],
      "source": [
        "# coba jalankan code dibawah\n",
        "for angka in range(5):\n",
        "    print(angka)"
      ]
    },
    {
      "cell_type": "code",
      "execution_count": null,
      "metadata": {
        "colab": {
          "base_uri": "https://localhost:8080/"
        },
        "id": "4okJKGRFOyj3",
        "outputId": "44be12e5-7380-41b8-90f2-e5cf19c468a9"
      },
      "outputs": [
        {
          "name": "stdout",
          "output_type": "stream",
          "text": [
            "4\n",
            "6\n",
            "8\n",
            "10\n",
            "12\n",
            "14\n"
          ]
        }
      ],
      "source": [
        "var_list = [2,3,4,5,6,7]\n",
        "\n",
        "for x in var_list:\n",
        "  print(x*2)"
      ]
    },
    {
      "cell_type": "markdown",
      "metadata": {
        "id": "3Xa2w6zN2qWN"
      },
      "source": [
        "mengaplikasikan if else elif statement pada loops"
      ]
    },
    {
      "cell_type": "code",
      "execution_count": null,
      "metadata": {
        "colab": {
          "base_uri": "https://localhost:8080/"
        },
        "id": "5UFcSW-xtus2",
        "outputId": "ce567f41-3169-4490-eb8f-7ea82c60da4b"
      },
      "outputs": [
        {
          "name": "stdout",
          "output_type": "stream",
          "text": [
            "10 bilangan ini kelipatan 10 dan habis dibagi 2\n",
            "22 bilangan ini bukan kelipatan 10 dan habis dibagi 2\n",
            "33 Gak tahu\n",
            "40 bilangan ini kelipatan 10 dan habis dibagi 2\n",
            "50 bilangan ini kelipatan 10 dan habis dibagi 2\n",
            "60 bilangan ini kelipatan 10 dan habis dibagi 2\n"
          ]
        }
      ],
      "source": [
        "var_number = [10,22,33,40,50,60]\n",
        "\n",
        "for x in var_number:\n",
        "  if x%10 == 0 and x%2 == 0:\n",
        "    print(f\"{x} bilangan ini kelipatan 10 dan habis dibagi 2\")\n",
        "  elif x%10 != 0 and x%2 == 0:\n",
        "    print(f\"{x} bilangan ini bukan kelipatan 10 dan habis dibagi 2\")\n",
        "  else:\n",
        "    print(f\"{x} Gak tahu\")"
      ]
    },
    {
      "cell_type": "code",
      "execution_count": null,
      "metadata": {
        "colab": {
          "base_uri": "https://localhost:8080/"
        },
        "id": "COpglwQI2tq8",
        "outputId": "280f7ff5-548e-4c46-fffc-9c6e0366ce45"
      },
      "outputs": [
        {
          "name": "stdout",
          "output_type": "stream",
          "text": [
            "10 adalah bilangan  yang habis di bagi 2 dan 5\n",
            "11\n",
            "12\n",
            "13\n",
            "14 adalah bilangan kelipatan 7\n",
            "15 adalah bilangan habis di bagi 3 dan 15 adalah bilangan ganjil\n",
            "16\n",
            "17\n",
            "18\n",
            "19\n",
            "20 adalah bilangan  yang habis di bagi 2 dan 5\n",
            "21 adalah bilangan habis di bagi 3 dan 21 adalah bilangan ganjil\n",
            "22\n",
            "23\n",
            "24\n",
            "25\n",
            "26\n",
            "27 adalah bilangan habis di bagi 3 dan 27 adalah bilangan ganjil\n",
            "28 adalah bilangan kelipatan 7\n",
            "29\n"
          ]
        }
      ],
      "source": [
        "for x in range(10,30):\n",
        "  if x%2==0 and x%5==0:\n",
        "    print(f\"{x} adalah bilangan  yang habis di bagi 2 dan 5\")\n",
        "  elif x%3==0 and x%2 == 1:\n",
        "    print(f\"{x} adalah bilangan habis di bagi 3 dan {x} adalah bilangan ganjil\")\n",
        "  elif x%7==0:\n",
        "    print(f\"{x} adalah bilangan kelipatan 7\")\n",
        "  else:\n",
        "    print(x)"
      ]
    },
    {
      "cell_type": "markdown",
      "metadata": {
        "id": "VnrMxY1C2bZz"
      },
      "source": [
        "Contoh dibawah ini menggunakan struktur data **list**. Untuk **list** secara detail akan dibahas di pertemuan selanjutnya."
      ]
    },
    {
      "cell_type": "code",
      "execution_count": null,
      "metadata": {
        "colab": {
          "base_uri": "https://localhost:8080/"
        },
        "id": "hH7SX0vrzTII",
        "outputId": "59571350-fb9c-47e1-de0e-6aca86d675e1"
      },
      "outputs": [
        {
          "data": {
            "text/plain": [
              "[5.27, 8.79, 17.59, 22.87, 87.99]"
            ]
          },
          "execution_count": 47,
          "metadata": {},
          "output_type": "execute_result"
        }
      ],
      "source": [
        "exchange_rate = 0.88\n",
        "usd_list = [5.99,9.99,19.99,25.99,99.99]\n",
        "\n",
        "#inisiasi list kosong\n",
        "euro_list = []\n",
        "\n",
        "for x in usd_list:\n",
        "  convert = x*exchange_rate\n",
        "\n",
        "  #masukkan ke list kosong\n",
        "  #gunakan bantaun round() untuk mengatur banyak koma yang diinginkan\n",
        "  euro_list.append(round(convert,2))\n",
        "\n",
        "\n",
        "#cetak hasil\n",
        "euro_list"
      ]
    },
    {
      "cell_type": "markdown",
      "metadata": {
        "id": "dpAKzpcC3lgE"
      },
      "source": [
        "## Nested For Loops"
      ]
    },
    {
      "cell_type": "code",
      "execution_count": null,
      "metadata": {
        "colab": {
          "base_uri": "https://localhost:8080/"
        },
        "id": "cLz1lHWG0-Gj",
        "outputId": "0d399783-1a81-4d50-aade-7e5ae17ba023"
      },
      "outputs": [
        {
          "name": "stdout",
          "output_type": "stream",
          "text": [
            "Bulan 1\n",
            "Tanggal 1\n",
            "Tanggal 2\n",
            "Tanggal 3\n",
            "Tanggal 4\n",
            "Tanggal 5\n",
            "Tanggal 6\n",
            "Tanggal 7\n",
            "Tanggal 8\n",
            "Tanggal 9\n",
            "Tanggal 10\n",
            "Tanggal 11\n",
            "Tanggal 12\n",
            "Tanggal 13\n",
            "Tanggal 14\n",
            "Tanggal 15\n",
            "Tanggal 16\n",
            "Tanggal 17\n",
            "Tanggal 18\n",
            "Tanggal 19\n",
            "Tanggal 20\n",
            "Tanggal 21\n",
            "Tanggal 22\n",
            "Tanggal 23\n",
            "Tanggal 24\n",
            "Tanggal 25\n",
            "Tanggal 26\n",
            "Tanggal 27\n",
            "Tanggal 28\n",
            "Tanggal 29\n",
            "Tanggal 30\n",
            "Bulan 2\n",
            "Tanggal 1\n",
            "Tanggal 2\n",
            "Tanggal 3\n",
            "Tanggal 4\n",
            "Tanggal 5\n",
            "Tanggal 6\n",
            "Tanggal 7\n",
            "Tanggal 8\n",
            "Tanggal 9\n",
            "Tanggal 10\n",
            "Tanggal 11\n",
            "Tanggal 12\n",
            "Tanggal 13\n",
            "Tanggal 14\n",
            "Tanggal 15\n",
            "Tanggal 16\n",
            "Tanggal 17\n",
            "Tanggal 18\n",
            "Tanggal 19\n",
            "Tanggal 20\n",
            "Tanggal 21\n",
            "Tanggal 22\n",
            "Tanggal 23\n",
            "Tanggal 24\n",
            "Tanggal 25\n",
            "Tanggal 26\n",
            "Tanggal 27\n",
            "Tanggal 28\n",
            "Tanggal 29\n",
            "Tanggal 30\n",
            "Bulan 3\n",
            "Tanggal 1\n",
            "Tanggal 2\n",
            "Tanggal 3\n",
            "Tanggal 4\n",
            "Tanggal 5\n",
            "Tanggal 6\n",
            "Tanggal 7\n",
            "Tanggal 8\n",
            "Tanggal 9\n",
            "Tanggal 10\n",
            "Tanggal 11\n",
            "Tanggal 12\n",
            "Tanggal 13\n",
            "Tanggal 14\n",
            "Tanggal 15\n",
            "Tanggal 16\n",
            "Tanggal 17\n",
            "Tanggal 18\n",
            "Tanggal 19\n",
            "Tanggal 20\n",
            "Tanggal 21\n",
            "Tanggal 22\n",
            "Tanggal 23\n",
            "Tanggal 24\n",
            "Tanggal 25\n",
            "Tanggal 26\n",
            "Tanggal 27\n",
            "Tanggal 28\n",
            "Tanggal 29\n",
            "Tanggal 30\n",
            "Bulan 4\n",
            "Tanggal 1\n",
            "Tanggal 2\n",
            "Tanggal 3\n",
            "Tanggal 4\n",
            "Tanggal 5\n",
            "Tanggal 6\n",
            "Tanggal 7\n",
            "Tanggal 8\n",
            "Tanggal 9\n",
            "Tanggal 10\n",
            "Tanggal 11\n",
            "Tanggal 12\n",
            "Tanggal 13\n",
            "Tanggal 14\n",
            "Tanggal 15\n",
            "Tanggal 16\n",
            "Tanggal 17\n",
            "Tanggal 18\n",
            "Tanggal 19\n",
            "Tanggal 20\n",
            "Tanggal 21\n",
            "Tanggal 22\n",
            "Tanggal 23\n",
            "Tanggal 24\n",
            "Tanggal 25\n",
            "Tanggal 26\n",
            "Tanggal 27\n",
            "Tanggal 28\n",
            "Tanggal 29\n",
            "Tanggal 30\n",
            "Bulan 5\n",
            "Tanggal 1\n",
            "Tanggal 2\n",
            "Tanggal 3\n",
            "Tanggal 4\n",
            "Tanggal 5\n",
            "Tanggal 6\n",
            "Tanggal 7\n",
            "Tanggal 8\n",
            "Tanggal 9\n",
            "Tanggal 10\n",
            "Tanggal 11\n",
            "Tanggal 12\n",
            "Tanggal 13\n",
            "Tanggal 14\n",
            "Tanggal 15\n",
            "Tanggal 16\n",
            "Tanggal 17\n",
            "Tanggal 18\n",
            "Tanggal 19\n",
            "Tanggal 20\n",
            "Tanggal 21\n",
            "Tanggal 22\n",
            "Tanggal 23\n",
            "Tanggal 24\n",
            "Tanggal 25\n",
            "Tanggal 26\n",
            "Tanggal 27\n",
            "Tanggal 28\n",
            "Tanggal 29\n",
            "Tanggal 30\n",
            "Bulan 6\n",
            "Tanggal 1\n",
            "Tanggal 2\n",
            "Tanggal 3\n",
            "Tanggal 4\n",
            "Tanggal 5\n",
            "Tanggal 6\n",
            "Tanggal 7\n",
            "Tanggal 8\n",
            "Tanggal 9\n",
            "Tanggal 10\n",
            "Tanggal 11\n",
            "Tanggal 12\n",
            "Tanggal 13\n",
            "Tanggal 14\n",
            "Tanggal 15\n",
            "Tanggal 16\n",
            "Tanggal 17\n",
            "Tanggal 18\n",
            "Tanggal 19\n",
            "Tanggal 20\n",
            "Tanggal 21\n",
            "Tanggal 22\n",
            "Tanggal 23\n",
            "Tanggal 24\n",
            "Tanggal 25\n",
            "Tanggal 26\n",
            "Tanggal 27\n",
            "Tanggal 28\n",
            "Tanggal 29\n",
            "Tanggal 30\n",
            "Bulan 7\n",
            "Tanggal 1\n",
            "Tanggal 2\n",
            "Tanggal 3\n",
            "Tanggal 4\n",
            "Tanggal 5\n",
            "Tanggal 6\n",
            "Tanggal 7\n",
            "Tanggal 8\n",
            "Tanggal 9\n",
            "Tanggal 10\n",
            "Tanggal 11\n",
            "Tanggal 12\n",
            "Tanggal 13\n",
            "Tanggal 14\n",
            "Tanggal 15\n",
            "Tanggal 16\n",
            "Tanggal 17\n",
            "Tanggal 18\n",
            "Tanggal 19\n",
            "Tanggal 20\n",
            "Tanggal 21\n",
            "Tanggal 22\n",
            "Tanggal 23\n",
            "Tanggal 24\n",
            "Tanggal 25\n",
            "Tanggal 26\n",
            "Tanggal 27\n",
            "Tanggal 28\n",
            "Tanggal 29\n",
            "Tanggal 30\n",
            "Bulan 8\n",
            "Tanggal 1\n",
            "Tanggal 2\n",
            "Tanggal 3\n",
            "Tanggal 4\n",
            "Tanggal 5\n",
            "Tanggal 6\n",
            "Tanggal 7\n",
            "Tanggal 8\n",
            "Tanggal 9\n",
            "Tanggal 10\n",
            "Tanggal 11\n",
            "Tanggal 12\n",
            "Tanggal 13\n",
            "Tanggal 14\n",
            "Tanggal 15\n",
            "Tanggal 16\n",
            "Tanggal 17\n",
            "Tanggal 18\n",
            "Tanggal 19\n",
            "Tanggal 20\n",
            "Tanggal 21\n",
            "Tanggal 22\n",
            "Tanggal 23\n",
            "Tanggal 24\n",
            "Tanggal 25\n",
            "Tanggal 26\n",
            "Tanggal 27\n",
            "Tanggal 28\n",
            "Tanggal 29\n",
            "Tanggal 30\n",
            "Bulan 9\n",
            "Tanggal 1\n",
            "Tanggal 2\n",
            "Tanggal 3\n",
            "Tanggal 4\n",
            "Tanggal 5\n",
            "Tanggal 6\n",
            "Tanggal 7\n",
            "Tanggal 8\n",
            "Tanggal 9\n",
            "Tanggal 10\n",
            "Tanggal 11\n",
            "Tanggal 12\n",
            "Tanggal 13\n",
            "Tanggal 14\n",
            "Tanggal 15\n",
            "Tanggal 16\n",
            "Tanggal 17\n",
            "Tanggal 18\n",
            "Tanggal 19\n",
            "Tanggal 20\n",
            "Tanggal 21\n",
            "Tanggal 22\n",
            "Tanggal 23\n",
            "Tanggal 24\n",
            "Tanggal 25\n",
            "Tanggal 26\n",
            "Tanggal 27\n",
            "Tanggal 28\n",
            "Tanggal 29\n",
            "Tanggal 30\n",
            "Bulan 10\n",
            "Tanggal 1\n",
            "Tanggal 2\n",
            "Tanggal 3\n",
            "Tanggal 4\n",
            "Tanggal 5\n",
            "Tanggal 6\n",
            "Tanggal 7\n",
            "Tanggal 8\n",
            "Tanggal 9\n",
            "Tanggal 10\n",
            "Tanggal 11\n",
            "Tanggal 12\n",
            "Tanggal 13\n",
            "Tanggal 14\n",
            "Tanggal 15\n",
            "Tanggal 16\n",
            "Tanggal 17\n",
            "Tanggal 18\n",
            "Tanggal 19\n",
            "Tanggal 20\n",
            "Tanggal 21\n",
            "Tanggal 22\n",
            "Tanggal 23\n",
            "Tanggal 24\n",
            "Tanggal 25\n",
            "Tanggal 26\n",
            "Tanggal 27\n",
            "Tanggal 28\n",
            "Tanggal 29\n",
            "Tanggal 30\n",
            "Bulan 11\n",
            "Tanggal 1\n",
            "Tanggal 2\n",
            "Tanggal 3\n",
            "Tanggal 4\n",
            "Tanggal 5\n",
            "Tanggal 6\n",
            "Tanggal 7\n",
            "Tanggal 8\n",
            "Tanggal 9\n",
            "Tanggal 10\n",
            "Tanggal 11\n",
            "Tanggal 12\n",
            "Tanggal 13\n",
            "Tanggal 14\n",
            "Tanggal 15\n",
            "Tanggal 16\n",
            "Tanggal 17\n",
            "Tanggal 18\n",
            "Tanggal 19\n",
            "Tanggal 20\n",
            "Tanggal 21\n",
            "Tanggal 22\n",
            "Tanggal 23\n",
            "Tanggal 24\n",
            "Tanggal 25\n",
            "Tanggal 26\n",
            "Tanggal 27\n",
            "Tanggal 28\n",
            "Tanggal 29\n",
            "Tanggal 30\n",
            "Bulan 12\n",
            "Tanggal 1\n",
            "Tanggal 2\n",
            "Tanggal 3\n",
            "Tanggal 4\n",
            "Tanggal 5\n",
            "Tanggal 6\n",
            "Tanggal 7\n",
            "Tanggal 8\n",
            "Tanggal 9\n",
            "Tanggal 10\n",
            "Tanggal 11\n",
            "Tanggal 12\n",
            "Tanggal 13\n",
            "Tanggal 14\n",
            "Tanggal 15\n",
            "Tanggal 16\n",
            "Tanggal 17\n",
            "Tanggal 18\n",
            "Tanggal 19\n",
            "Tanggal 20\n",
            "Tanggal 21\n",
            "Tanggal 22\n",
            "Tanggal 23\n",
            "Tanggal 24\n",
            "Tanggal 25\n",
            "Tanggal 26\n",
            "Tanggal 27\n",
            "Tanggal 28\n",
            "Tanggal 29\n",
            "Tanggal 30\n"
          ]
        }
      ],
      "source": [
        "# coba jalankan code di bawah ini\n",
        "for bulan in range (1,13):\n",
        "    print(f'Bulan {bulan}')\n",
        "    for tanggal in range(1,31):\n",
        "        print(f'Tanggal {tanggal}')"
      ]
    },
    {
      "cell_type": "code",
      "execution_count": null,
      "metadata": {
        "colab": {
          "base_uri": "https://localhost:8080/"
        },
        "id": "4jUhF1px3n0D",
        "outputId": "e76eb7f2-dfb7-4b41-c01f-f0b852d3bec7"
      },
      "outputs": [
        {
          "name": "stdout",
          "output_type": "stream",
          "text": [
            "1 + 1 = 2\n",
            "1 + 2 = 3\n",
            "1 + 3 = 4\n",
            "1 + 4 = 5\n",
            "1 + 5 = 6\n",
            "---\n",
            "2 + 1 = 3\n",
            "2 + 2 = 4\n",
            "2 + 3 = 5\n",
            "2 + 4 = 6\n",
            "2 + 5 = 7\n",
            "---\n"
          ]
        }
      ],
      "source": [
        "for angka_1 in range (1,3):\n",
        "    for angka_2 in range (1,6):\n",
        "        pertambahan = angka_1 + angka_2\n",
        "        print(f'{angka_1} + {angka_2} = {pertambahan}')\n",
        "    print('---')"
      ]
    },
    {
      "cell_type": "code",
      "execution_count": null,
      "metadata": {
        "colab": {
          "base_uri": "https://localhost:8080/"
        },
        "id": "KVakdJaU3sKf",
        "outputId": "e86a5558-3cc9-4ed4-b8a0-87f3ec50cc2c"
      },
      "outputs": [
        {
          "name": "stdout",
          "output_type": "stream",
          "text": [
            "Total belanjaan anda Rp 151000\n",
            "Anda mendapat diskon 2% dan berhemat Rp 3020.0\n",
            "Anda harus membayar Rp 147980.0\n"
          ]
        }
      ],
      "source": [
        "total_harga = 0\n",
        "prosentase_diskon = (2/100)\n",
        "list_harga = [20000, 41000, 90000]\n",
        "\n",
        "for harga in list_harga:\n",
        "    total_harga += harga\n",
        "\n",
        "  # if di deklarasikan di dalam for dengan indentasi yang lebih tinggi\n",
        "  # jika total harga belanja kita lebih dari 150.000 maka blok if akan dijalakan\n",
        "    if total_harga >= 150000:\n",
        "        print(f'Total belanjaan anda Rp {total_harga}')\n",
        "\n",
        "        diskon = prosentase_diskon * total_harga\n",
        "        print(f'Anda mendapat diskon 2% dan berhemat Rp {diskon}')\n",
        "\n",
        "        total_harga = total_harga - diskon\n",
        "\n",
        "print(f'Anda harus membayar Rp {total_harga}')"
      ]
    },
    {
      "cell_type": "markdown",
      "metadata": {
        "id": "yocauW6J4io5"
      },
      "source": [
        "## While Loops\n",
        "\n",
        "```python\n",
        "while <condition>:\n",
        "    # Jika kondisi benar\n",
        "    run_this_statement\n",
        "```"
      ]
    },
    {
      "cell_type": "code",
      "execution_count": null,
      "metadata": {
        "colab": {
          "base_uri": "https://localhost:8080/"
        },
        "id": "9w4xg9_nuhN0",
        "outputId": "572dc951-bbee-4d09-9511-5d980f1a077b"
      },
      "outputs": [
        {
          "name": "stdout",
          "output_type": "stream",
          "text": [
            "ke - 0Lakukan something\n",
            "ke - 1Lakukan something\n",
            "ke - 2Lakukan something\n",
            "ke - 3Lakukan something\n",
            "ke - 4Lakukan something\n",
            "ke - 5Lakukan something\n",
            "ke - 6Lakukan something\n",
            "ke - 7Lakukan something\n",
            "ke - 8Lakukan something\n",
            "ke - 9Lakukan something\n"
          ]
        }
      ],
      "source": [
        "#inisiasi kondisi\n",
        "i = 0\n",
        "\n",
        "while i < 10:\n",
        "  print(f'ke - {i} Lakukan something')\n",
        "\n",
        "  i = i + 1"
      ]
    },
    {
      "cell_type": "code",
      "execution_count": null,
      "metadata": {
        "colab": {
          "base_uri": "https://localhost:8080/"
        },
        "id": "dKqE5SGhvAq9",
        "outputId": "40b3f596-3fa0-40ec-c039-dfd5a5d2e0ef"
      },
      "outputs": [
        {
          "name": "stdout",
          "output_type": "stream",
          "text": [
            "sukses\n",
            "sukses\n",
            "sukses\n",
            "sukses\n",
            "sukses\n"
          ]
        }
      ],
      "source": [
        "var_A = [1,2,3,4,5,6,7,8,9,10]\n",
        "\n",
        "#inisiasi kondisi\n",
        "i = 0\n",
        "\n",
        "while i < 5:\n",
        "  var_A[i] = var_A[i] * 7\n",
        "\n",
        "  i = i+1\n",
        "  print(\"sukses\")"
      ]
    },
    {
      "cell_type": "code",
      "execution_count": null,
      "metadata": {
        "colab": {
          "base_uri": "https://localhost:8080/"
        },
        "id": "aCfq6OKEvY7c",
        "outputId": "4be848f3-5f10-4b93-936c-0f035b14db69"
      },
      "outputs": [
        {
          "data": {
            "text/plain": [
              "[7, 14, 21, 28, 35, 6, 7, 8, 9, 10]"
            ]
          },
          "execution_count": 127,
          "metadata": {},
          "output_type": "execute_result"
        }
      ],
      "source": [
        "var_A"
      ]
    },
    {
      "cell_type": "code",
      "execution_count": null,
      "metadata": {
        "colab": {
          "base_uri": "https://localhost:8080/"
        },
        "id": "52TAIDbs4W8F",
        "outputId": "daa81e95-0ef5-450a-c16e-ff96d7d0d157"
      },
      "outputs": [
        {
          "name": "stdout",
          "output_type": "stream",
          "text": [
            "Hello World\n",
            "Hello World\n",
            "Hello World\n",
            "Hello World\n",
            "Hello World\n"
          ]
        }
      ],
      "source": [
        "# while loops basic\n",
        "angka = 0\n",
        "while angka < 5:\n",
        "    print('Hello World')\n",
        "    angka +=1\n"
      ]
    },
    {
      "cell_type": "code",
      "execution_count": null,
      "metadata": {
        "colab": {
          "base_uri": "https://localhost:8080/"
        },
        "id": "t682gf4K5H04",
        "outputId": "0b8be2f4-fb9f-41a4-bced-e2e10bd5b6bf"
      },
      "outputs": [
        {
          "name": "stdout",
          "output_type": "stream",
          "text": [
            "At the end of year 1 : My balance is $120000.0\n",
            "At the end of year 2 : My balance is $180000.0\n",
            "At the end of year 3 : My balance is $270000.0\n",
            "At the end of year 4 : My balance is $405000.0\n",
            "At the end of year 5 : My balance is $607500.0\n"
          ]
        }
      ],
      "source": [
        "stock_portofolio = 80000\n",
        "year_counter = 0\n",
        "\n",
        "while year_counter < 5 :\n",
        "  investment_income = stock_portofolio * 0.5\n",
        "\n",
        "  stock_portofolio += investment_income\n",
        "\n",
        "  year_counter +=1\n",
        "\n",
        "  print(f\"At the end of year {year_counter} : \"\n",
        "   + f\"My balance is ${round(stock_portofolio,2)}\")"
      ]
    },
    {
      "cell_type": "code",
      "execution_count": null,
      "metadata": {
        "colab": {
          "base_uri": "https://localhost:8080/"
        },
        "id": "UZHfr5x-vm3W",
        "outputId": "e895ea1e-2a74-48db-9557-f16f83d893e5"
      },
      "outputs": [
        {
          "name": "stdout",
          "output_type": "stream",
          "text": [
            "At the end of year 1 : My balance is $120000.0\n",
            "At the end of year 2 : My balance is $180000.0\n",
            "At the end of year 3 : My balance is $270000.0\n",
            "At the end of year 4 : My balance is $405000.0\n",
            "At the end of year 5 : My balance is $607500.0\n"
          ]
        }
      ],
      "source": [
        "stock_portofolio = 80000\n",
        "year_counter = 0\n",
        "\n",
        "while year_counter <= 4:\n",
        "  invest = stock_portofolio * 0.5\n",
        "  stock_portofolio = stock_portofolio + invest\n",
        "\n",
        "  year_counter = year_counter + 1\n",
        "\n",
        "  print(f\"At the end of year {year_counter} : \"\n",
        "   + f\"My balance is ${round(stock_portofolio,2)}\")"
      ]
    },
    {
      "cell_type": "markdown",
      "metadata": {
        "id": "Se3qEz9MEjUK"
      },
      "source": [
        "# Studi Case"
      ]
    },
    {
      "cell_type": "markdown",
      "metadata": {
        "id": "IpKVFGXQEmJN"
      },
      "source": [
        "1. Buatlah program yang bisa memeriksa apakah suatu bilangan input dimana bilangan tersebut besar dari 0 merupakan bilangan genap atau ganjil"
      ]
    },
    {
      "cell_type": "code",
      "execution_count": null,
      "metadata": {
        "id": "0MfRraaK8iTj"
      },
      "outputs": [],
      "source": [
        "# write your code"
      ]
    },
    {
      "cell_type": "markdown",
      "metadata": {
        "id": "DuEYPLk3EzzP"
      },
      "source": [
        "2. Buatlah sebuah pemrogramman yang memeriksa kategori obesitas dengan keterangan BMI sebagai berikut <br>\n",
        "![image.png](data:image/png;base64,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) <br>\n",
        "\n",
        "BMI  = berat/(berat**2) <br>\n",
        "\n",
        "berat dalam satuan KG dan tinggi dalam satuan meter"
      ]
    },
    {
      "cell_type": "code",
      "execution_count": null,
      "metadata": {
        "id": "vPLlQnL8EzGc"
      },
      "outputs": [],
      "source": [
        "#write your code"
      ]
    },
    {
      "cell_type": "markdown",
      "metadata": {
        "id": "_ErMluvSFz-x"
      },
      "source": [
        "3. Pizza Order <br>\n",
        "buatlah sebuah payment pizza untuk menghitung harga yang harus dibayarkan oleh pembeli dengan ketentuan harga: <br>\n",
        "``small pizza : $15`` <br>\n",
        "``Medium pizza : $20`` <br>\n",
        "``Large Pizza : $25`` <br>\n",
        "\n",
        "Jika menambahkan papperoni : <br>\n",
        "``untuk small pizza = +$2`` <br>\n",
        "``untuk medium dan large pizza = +$3``\n",
        "\n",
        "\n",
        "Jika memilih extra cheese : <br>\n",
        "``untuk semua ukuran pizza = +$1``"
      ]
    },
    {
      "cell_type": "markdown",
      "metadata": {
        "id": "vJwD4p1fHJrC"
      },
      "source": [
        "4. FizzBuzz Game <br>\n",
        "print angka dari 1 hingga 100 : <br>\n",
        "- Jika angka tersebut habis dibagi 3 maka keluarkan fizz. <br>\n",
        "- jika angka tersebut habis di bagi 5 maka keluarkan buzz <br>\n",
        "- jika angka tersebut habis di bagi 3 dan 5 maka keluarkan fizzbuzz. <br>\n",
        "- Selain diatas maka cukup keluarkan angka saja\n"
      ]
    }
  ],
  "metadata": {
    "colab": {
      "provenance": []
    },
    "kernelspec": {
      "display_name": "Python 3 (ipykernel)",
      "language": "python",
      "name": "python3"
    },
    "language_info": {
      "codemirror_mode": {
        "name": "ipython",
        "version": 3
      },
      "file_extension": ".py",
      "mimetype": "text/x-python",
      "name": "python",
      "nbconvert_exporter": "python",
      "pygments_lexer": "ipython3",
      "version": "3.10.9"
    }
  },
  "nbformat": 4,
  "nbformat_minor": 0
}